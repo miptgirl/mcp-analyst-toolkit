{
 "cells": [
  {
   "cell_type": "code",
   "execution_count": 7,
   "id": "702bc6d8",
   "metadata": {},
   "outputs": [],
   "source": [
    "import requests\n",
    "import io\n",
    "import pandas as pd\n",
    "CH_HOST = 'http://localhost:8123' # default address \n",
    "\n",
    "def execute_query(query, host = CH_HOST, connection_timeout = 1500):\n",
    "  r = requests.post(host, params = {'query': query}, \n",
    "    timeout = connection_timeout)\n",
    "  if r.status_code == 200:\n",
    "      return pd.read_csv(io.StringIO(r.text), sep = '\\t')\n",
    "  else: \n",
    "      return 'Database returned the following error:\\n' + r.text\n",
    "      # giving feedback to LLM instead of raising exception\n",
    "\n",
    "def get_databases(host = CH_HOST, connection_timeout = 1500):\n",
    "    return execute_query('show tables', host, connection_timeout)\n",
    "\n",
    "def get_table_schema(table_name, host = CH_HOST, connection_timeout = 1500):\n",
    "    query = f\"DESCRIBE TABLE {table_name}\"\n",
    "    return execute_query(query, host, connection_timeout)"
   ]
  },
  {
   "cell_type": "code",
   "execution_count": 8,
   "id": "7fc933fa",
   "metadata": {},
   "outputs": [
    {
     "data": {
      "text/html": [
       "<div>\n",
       "<style scoped>\n",
       "    .dataframe tbody tr th:only-of-type {\n",
       "        vertical-align: middle;\n",
       "    }\n",
       "\n",
       "    .dataframe tbody tr th {\n",
       "        vertical-align: top;\n",
       "    }\n",
       "\n",
       "    .dataframe thead th {\n",
       "        text-align: right;\n",
       "    }\n",
       "</style>\n",
       "<table border=\"1\" class=\"dataframe\">\n",
       "  <thead>\n",
       "    <tr style=\"text-align: right;\">\n",
       "      <th></th>\n",
       "      <th>user_id</th>\n",
       "      <th>UInt64</th>\n",
       "      <th>Unnamed: 2</th>\n",
       "      <th>Unnamed: 3</th>\n",
       "      <th>Unnamed: 4</th>\n",
       "      <th>Unnamed: 5</th>\n",
       "      <th>Unnamed: 6</th>\n",
       "    </tr>\n",
       "  </thead>\n",
       "  <tbody>\n",
       "    <tr>\n",
       "      <th>0</th>\n",
       "      <td>country</td>\n",
       "      <td>String</td>\n",
       "      <td>NaN</td>\n",
       "      <td>NaN</td>\n",
       "      <td>NaN</td>\n",
       "      <td>NaN</td>\n",
       "      <td>NaN</td>\n",
       "    </tr>\n",
       "    <tr>\n",
       "      <th>1</th>\n",
       "      <td>is_active</td>\n",
       "      <td>UInt8</td>\n",
       "      <td>NaN</td>\n",
       "      <td>NaN</td>\n",
       "      <td>NaN</td>\n",
       "      <td>NaN</td>\n",
       "      <td>NaN</td>\n",
       "    </tr>\n",
       "    <tr>\n",
       "      <th>2</th>\n",
       "      <td>age</td>\n",
       "      <td>UInt64</td>\n",
       "      <td>NaN</td>\n",
       "      <td>NaN</td>\n",
       "      <td>NaN</td>\n",
       "      <td>NaN</td>\n",
       "      <td>NaN</td>\n",
       "    </tr>\n",
       "  </tbody>\n",
       "</table>\n",
       "</div>"
      ],
      "text/plain": [
       "     user_id  UInt64  Unnamed: 2  Unnamed: 3  Unnamed: 4  Unnamed: 5  \\\n",
       "0    country  String         NaN         NaN         NaN         NaN   \n",
       "1  is_active   UInt8         NaN         NaN         NaN         NaN   \n",
       "2        age  UInt64         NaN         NaN         NaN         NaN   \n",
       "\n",
       "   Unnamed: 6  \n",
       "0         NaN  \n",
       "1         NaN  \n",
       "2         NaN  "
      ]
     },
     "execution_count": 8,
     "metadata": {},
     "output_type": "execute_result"
    }
   ],
   "source": [
    "get_table_schema('ecommerce.users')"
   ]
  },
  {
   "cell_type": "code",
   "execution_count": null,
   "id": "b5ba1e6c",
   "metadata": {},
   "outputs": [],
   "source": []
  }
 ],
 "metadata": {
  "kernelspec": {
   "display_name": "Python 3 (ipykernel)",
   "language": "python",
   "name": "python3"
  },
  "language_info": {
   "codemirror_mode": {
    "name": "ipython",
    "version": 3
   },
   "file_extension": ".py",
   "mimetype": "text/x-python",
   "name": "python",
   "nbconvert_exporter": "python",
   "pygments_lexer": "ipython3",
   "version": "3.11.13"
  }
 },
 "nbformat": 4,
 "nbformat_minor": 5
}
